{
 "cells": [
  {
   "cell_type": "code",
   "execution_count": 1,
   "metadata": {},
   "outputs": [],
   "source": [
    "import pandas as pd\n",
    "\n",
    "df = pd.read_csv('NO2_07112024 copy 2.csv', delimiter=';')"
   ]
  },
  {
   "cell_type": "code",
   "execution_count": 2,
   "metadata": {},
   "outputs": [
    {
     "data": {
      "text/html": [
       "<div>\n",
       "<style scoped>\n",
       "    .dataframe tbody tr th:only-of-type {\n",
       "        vertical-align: middle;\n",
       "    }\n",
       "\n",
       "    .dataframe tbody tr th {\n",
       "        vertical-align: top;\n",
       "    }\n",
       "\n",
       "    .dataframe thead th {\n",
       "        text-align: right;\n",
       "    }\n",
       "</style>\n",
       "<table border=\"1\" class=\"dataframe\">\n",
       "  <thead>\n",
       "    <tr style=\"text-align: right;\">\n",
       "      <th></th>\n",
       "      <th>Timestamp</th>\n",
       "      <th>Value</th>\n",
       "    </tr>\n",
       "  </thead>\n",
       "  <tbody>\n",
       "    <tr>\n",
       "      <th>0</th>\n",
       "      <td>2006-01-01T00:00:00.000+12:00</td>\n",
       "      <td>1.2</td>\n",
       "    </tr>\n",
       "    <tr>\n",
       "      <th>1</th>\n",
       "      <td>2006-01-01T01:00:00.000+12:00</td>\n",
       "      <td>0.8</td>\n",
       "    </tr>\n",
       "    <tr>\n",
       "      <th>2</th>\n",
       "      <td>2006-01-01T02:00:00.000+12:00</td>\n",
       "      <td>0.5</td>\n",
       "    </tr>\n",
       "    <tr>\n",
       "      <th>3</th>\n",
       "      <td>2006-01-01T03:00:00.000+12:00</td>\n",
       "      <td>0.4</td>\n",
       "    </tr>\n",
       "    <tr>\n",
       "      <th>4</th>\n",
       "      <td>2006-01-01T04:00:00.000+12:00</td>\n",
       "      <td>0.4</td>\n",
       "    </tr>\n",
       "    <tr>\n",
       "      <th>...</th>\n",
       "      <td>...</td>\n",
       "      <td>...</td>\n",
       "    </tr>\n",
       "    <tr>\n",
       "      <th>154556</th>\n",
       "      <td>2024-12-03T20:00:00.000+12:00</td>\n",
       "      <td>5.4</td>\n",
       "    </tr>\n",
       "    <tr>\n",
       "      <th>154557</th>\n",
       "      <td>2024-12-03T21:00:00.000+12:00</td>\n",
       "      <td>8.3</td>\n",
       "    </tr>\n",
       "    <tr>\n",
       "      <th>154558</th>\n",
       "      <td>2024-12-03T22:00:00.000+12:00</td>\n",
       "      <td>10.6</td>\n",
       "    </tr>\n",
       "    <tr>\n",
       "      <th>154559</th>\n",
       "      <td>2024-12-03T23:00:00.000+12:00</td>\n",
       "      <td>5.3</td>\n",
       "    </tr>\n",
       "    <tr>\n",
       "      <th>154560</th>\n",
       "      <td>2024-12-04T00:00:00.000+12:00</td>\n",
       "      <td>11.6</td>\n",
       "    </tr>\n",
       "  </tbody>\n",
       "</table>\n",
       "<p>154561 rows × 2 columns</p>\n",
       "</div>"
      ],
      "text/plain": [
       "                            Timestamp  Value\n",
       "0       2006-01-01T00:00:00.000+12:00    1.2\n",
       "1       2006-01-01T01:00:00.000+12:00    0.8\n",
       "2       2006-01-01T02:00:00.000+12:00    0.5\n",
       "3       2006-01-01T03:00:00.000+12:00    0.4\n",
       "4       2006-01-01T04:00:00.000+12:00    0.4\n",
       "...                               ...    ...\n",
       "154556  2024-12-03T20:00:00.000+12:00    5.4\n",
       "154557  2024-12-03T21:00:00.000+12:00    8.3\n",
       "154558  2024-12-03T22:00:00.000+12:00   10.6\n",
       "154559  2024-12-03T23:00:00.000+12:00    5.3\n",
       "154560  2024-12-04T00:00:00.000+12:00   11.6\n",
       "\n",
       "[154561 rows x 2 columns]"
      ]
     },
     "execution_count": 2,
     "metadata": {},
     "output_type": "execute_result"
    }
   ],
   "source": [
    "df"
   ]
  },
  {
   "cell_type": "code",
   "execution_count": 3,
   "metadata": {},
   "outputs": [],
   "source": [
    "df_new=df[153913:]"
   ]
  },
  {
   "cell_type": "code",
   "execution_count": 4,
   "metadata": {},
   "outputs": [],
   "source": [
    "df_new.to_csv('New.csv',index=False)"
   ]
  },
  {
   "cell_type": "code",
   "execution_count": 6,
   "metadata": {},
   "outputs": [
    {
     "data": {
      "text/html": [
       "<div>\n",
       "<style scoped>\n",
       "    .dataframe tbody tr th:only-of-type {\n",
       "        vertical-align: middle;\n",
       "    }\n",
       "\n",
       "    .dataframe tbody tr th {\n",
       "        vertical-align: top;\n",
       "    }\n",
       "\n",
       "    .dataframe thead th {\n",
       "        text-align: right;\n",
       "    }\n",
       "</style>\n",
       "<table border=\"1\" class=\"dataframe\">\n",
       "  <thead>\n",
       "    <tr style=\"text-align: right;\">\n",
       "      <th></th>\n",
       "      <th>Timestamp</th>\n",
       "    </tr>\n",
       "  </thead>\n",
       "  <tbody>\n",
       "    <tr>\n",
       "      <th>153913</th>\n",
       "      <td>2024-11-07T01:00:00.000+12:00</td>\n",
       "    </tr>\n",
       "    <tr>\n",
       "      <th>153914</th>\n",
       "      <td>2024-11-07T02:00:00.000+12:00</td>\n",
       "    </tr>\n",
       "    <tr>\n",
       "      <th>153915</th>\n",
       "      <td>2024-11-07T03:00:00.000+12:00</td>\n",
       "    </tr>\n",
       "    <tr>\n",
       "      <th>153916</th>\n",
       "      <td>2024-11-07T04:00:00.000+12:00</td>\n",
       "    </tr>\n",
       "    <tr>\n",
       "      <th>153917</th>\n",
       "      <td>2024-11-07T05:00:00.000+12:00</td>\n",
       "    </tr>\n",
       "    <tr>\n",
       "      <th>...</th>\n",
       "      <td>...</td>\n",
       "    </tr>\n",
       "    <tr>\n",
       "      <th>154556</th>\n",
       "      <td>2024-12-03T20:00:00.000+12:00</td>\n",
       "    </tr>\n",
       "    <tr>\n",
       "      <th>154557</th>\n",
       "      <td>2024-12-03T21:00:00.000+12:00</td>\n",
       "    </tr>\n",
       "    <tr>\n",
       "      <th>154558</th>\n",
       "      <td>2024-12-03T22:00:00.000+12:00</td>\n",
       "    </tr>\n",
       "    <tr>\n",
       "      <th>154559</th>\n",
       "      <td>2024-12-03T23:00:00.000+12:00</td>\n",
       "    </tr>\n",
       "    <tr>\n",
       "      <th>154560</th>\n",
       "      <td>2024-12-04T00:00:00.000+12:00</td>\n",
       "    </tr>\n",
       "  </tbody>\n",
       "</table>\n",
       "<p>648 rows × 1 columns</p>\n",
       "</div>"
      ],
      "text/plain": [
       "                            Timestamp\n",
       "153913  2024-11-07T01:00:00.000+12:00\n",
       "153914  2024-11-07T02:00:00.000+12:00\n",
       "153915  2024-11-07T03:00:00.000+12:00\n",
       "153916  2024-11-07T04:00:00.000+12:00\n",
       "153917  2024-11-07T05:00:00.000+12:00\n",
       "...                               ...\n",
       "154556  2024-12-03T20:00:00.000+12:00\n",
       "154557  2024-12-03T21:00:00.000+12:00\n",
       "154558  2024-12-03T22:00:00.000+12:00\n",
       "154559  2024-12-03T23:00:00.000+12:00\n",
       "154560  2024-12-04T00:00:00.000+12:00\n",
       "\n",
       "[648 rows x 1 columns]"
      ]
     },
     "execution_count": 6,
     "metadata": {},
     "output_type": "execute_result"
    }
   ],
   "source": [
    "df_test = df_new.drop('Value',axis=1)\n",
    "df_test"
   ]
  },
  {
   "cell_type": "code",
   "execution_count": 7,
   "metadata": {},
   "outputs": [],
   "source": [
    "df_test.to_csv('Test_new.csv',index=False)"
   ]
  },
  {
   "cell_type": "code",
   "execution_count": null,
   "metadata": {},
   "outputs": [],
   "source": []
  },
  {
   "cell_type": "code",
   "execution_count": null,
   "metadata": {},
   "outputs": [],
   "source": []
  },
  {
   "cell_type": "code",
   "execution_count": null,
   "metadata": {},
   "outputs": [],
   "source": []
  }
 ],
 "metadata": {
  "kernelspec": {
   "display_name": "Python 3",
   "language": "python",
   "name": "python3"
  },
  "language_info": {
   "codemirror_mode": {
    "name": "ipython",
    "version": 3
   },
   "file_extension": ".py",
   "mimetype": "text/x-python",
   "name": "python",
   "nbconvert_exporter": "python",
   "pygments_lexer": "ipython3",
   "version": "3.10.12"
  }
 },
 "nbformat": 4,
 "nbformat_minor": 2
}
