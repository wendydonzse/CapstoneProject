{
 "cells": [
  {
   "cell_type": "code",
   "execution_count": 13,
   "metadata": {},
   "outputs": [
    {
     "name": "stdout",
     "output_type": "stream",
     "text": [
      "                               #ts_id    2860\n",
      "0                               #rows  155401\n",
      "1                          #Timestamp   Value\n",
      "2       2006-01-01T00:00:00.000+12:00     1.2\n",
      "3       2006-01-01T01:00:00.000+12:00     0.8\n",
      "4       2006-01-01T02:00:00.000+12:00     0.5\n",
      "...                               ...     ...\n",
      "155398  2025-01-07T20:00:00.000+12:00     0.9\n",
      "155399  2025-01-07T21:00:00.000+12:00     1.3\n",
      "155400  2025-01-07T22:00:00.000+12:00     1.6\n",
      "155401  2025-01-07T23:00:00.000+12:00     0.9\n",
      "155402  2025-01-08T00:00:00.000+12:00     1.3\n",
      "\n",
      "[155403 rows x 2 columns]\n"
     ]
    }
   ],
   "source": [
    "import pandas as pd\n",
    "\n",
    "# Sample CSV data (use your actual URL or file path)\n",
    "url = 'http://aklc.hydrotel.co.nz:8080/KiWIS/KiWIS?service=kisters&type=queryServices&request=getTimeseriesValues&datasource=1&format=csv&ts_id=2860&from=2006-01-01'\n",
    "\n",
    "# Read the CSV file with semicolon as the delimiter\n",
    "df = pd.read_csv(url, delimiter=';')\n",
    "\n",
    "# Display the DataFrame\n",
    "print(df)\n",
    "\n",
    "# Save the DataFrame to a local CSV file\n",
    "output_file = r'test_NO2_07112024.csv'\n"
   ]
  },
  {
   "cell_type": "code",
   "execution_count": 14,
   "metadata": {},
   "outputs": [
    {
     "data": {
      "text/html": [
       "<div>\n",
       "<style scoped>\n",
       "    .dataframe tbody tr th:only-of-type {\n",
       "        vertical-align: middle;\n",
       "    }\n",
       "\n",
       "    .dataframe tbody tr th {\n",
       "        vertical-align: top;\n",
       "    }\n",
       "\n",
       "    .dataframe thead th {\n",
       "        text-align: right;\n",
       "    }\n",
       "</style>\n",
       "<table border=\"1\" class=\"dataframe\">\n",
       "  <thead>\n",
       "    <tr style=\"text-align: right;\">\n",
       "      <th></th>\n",
       "      <th>Timestamp</th>\n",
       "      <th>Value</th>\n",
       "    </tr>\n",
       "  </thead>\n",
       "  <tbody>\n",
       "    <tr>\n",
       "      <th>0</th>\n",
       "      <td>2006-01-01T00:00:00.000+12:00</td>\n",
       "      <td>1.2</td>\n",
       "    </tr>\n",
       "    <tr>\n",
       "      <th>1</th>\n",
       "      <td>2006-01-01T01:00:00.000+12:00</td>\n",
       "      <td>0.8</td>\n",
       "    </tr>\n",
       "    <tr>\n",
       "      <th>2</th>\n",
       "      <td>2006-01-01T02:00:00.000+12:00</td>\n",
       "      <td>0.5</td>\n",
       "    </tr>\n",
       "    <tr>\n",
       "      <th>3</th>\n",
       "      <td>2006-01-01T03:00:00.000+12:00</td>\n",
       "      <td>0.4</td>\n",
       "    </tr>\n",
       "    <tr>\n",
       "      <th>4</th>\n",
       "      <td>2006-01-01T04:00:00.000+12:00</td>\n",
       "      <td>0.4</td>\n",
       "    </tr>\n",
       "    <tr>\n",
       "      <th>...</th>\n",
       "      <td>...</td>\n",
       "      <td>...</td>\n",
       "    </tr>\n",
       "    <tr>\n",
       "      <th>155396</th>\n",
       "      <td>2025-01-07T20:00:00.000+12:00</td>\n",
       "      <td>0.9</td>\n",
       "    </tr>\n",
       "    <tr>\n",
       "      <th>155397</th>\n",
       "      <td>2025-01-07T21:00:00.000+12:00</td>\n",
       "      <td>1.3</td>\n",
       "    </tr>\n",
       "    <tr>\n",
       "      <th>155398</th>\n",
       "      <td>2025-01-07T22:00:00.000+12:00</td>\n",
       "      <td>1.6</td>\n",
       "    </tr>\n",
       "    <tr>\n",
       "      <th>155399</th>\n",
       "      <td>2025-01-07T23:00:00.000+12:00</td>\n",
       "      <td>0.9</td>\n",
       "    </tr>\n",
       "    <tr>\n",
       "      <th>155400</th>\n",
       "      <td>2025-01-08T00:00:00.000+12:00</td>\n",
       "      <td>1.3</td>\n",
       "    </tr>\n",
       "  </tbody>\n",
       "</table>\n",
       "<p>155401 rows × 2 columns</p>\n",
       "</div>"
      ],
      "text/plain": [
       "                            Timestamp Value\n",
       "0       2006-01-01T00:00:00.000+12:00   1.2\n",
       "1       2006-01-01T01:00:00.000+12:00   0.8\n",
       "2       2006-01-01T02:00:00.000+12:00   0.5\n",
       "3       2006-01-01T03:00:00.000+12:00   0.4\n",
       "4       2006-01-01T04:00:00.000+12:00   0.4\n",
       "...                               ...   ...\n",
       "155396  2025-01-07T20:00:00.000+12:00   0.9\n",
       "155397  2025-01-07T21:00:00.000+12:00   1.3\n",
       "155398  2025-01-07T22:00:00.000+12:00   1.6\n",
       "155399  2025-01-07T23:00:00.000+12:00   0.9\n",
       "155400  2025-01-08T00:00:00.000+12:00   1.3\n",
       "\n",
       "[155401 rows x 2 columns]"
      ]
     },
     "execution_count": 14,
     "metadata": {},
     "output_type": "execute_result"
    }
   ],
   "source": [
    "df=df[2:]\n",
    "df.columns = ['Timestamp','Value']\n",
    "df=df.reset_index(drop=True)\n",
    "df"
   ]
  },
  {
   "cell_type": "code",
   "execution_count": 15,
   "metadata": {},
   "outputs": [],
   "source": [
    "df.to_csv(output_file,index=False)"
   ]
  },
  {
   "cell_type": "code",
   "execution_count": null,
   "metadata": {},
   "outputs": [],
   "source": []
  }
 ],
 "metadata": {
  "kernelspec": {
   "display_name": "Python 3",
   "language": "python",
   "name": "python3"
  },
  "language_info": {
   "codemirror_mode": {
    "name": "ipython",
    "version": 3
   },
   "file_extension": ".py",
   "mimetype": "text/x-python",
   "name": "python",
   "nbconvert_exporter": "python",
   "pygments_lexer": "ipython3",
   "version": "3.10.12"
  }
 },
 "nbformat": 4,
 "nbformat_minor": 2
}
